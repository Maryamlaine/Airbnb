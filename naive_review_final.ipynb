{
  "nbformat": 4,
  "nbformat_minor": 0,
  "metadata": {
    "colab": {
      "name": "naive_review.ipynb",
      "provenance": [],
      "collapsed_sections": []
    },
    "kernel_info": {
      "name": "python3"
    },
    "kernelspec": {
      "display_name": "Python 3",
      "language": "python",
      "name": "python3"
    },
    "language_info": {
      "codemirror_mode": {
        "name": "ipython",
        "version": 3
      },
      "file_extension": ".py",
      "mimetype": "text/x-python",
      "name": "python",
      "nbconvert_exporter": "python",
      "pygments_lexer": "ipython3",
      "version": "3.6.8"
    },
    "latex_envs": {
      "LaTeX_envs_menu_present": true,
      "autoclose": false,
      "autocomplete": true,
      "bibliofile": "biblio.bib",
      "cite_by": "apalike",
      "current_citInitial": 1,
      "eqLabelWithNumbers": true,
      "eqNumInitial": 1,
      "hotkeys": {
        "equation": "Ctrl-E",
        "itemize": "Ctrl-I"
      },
      "labels_anchors": false,
      "latex_user_defs": false,
      "report_style_numbering": false,
      "user_envs_cfg": false
    },
    "nteract": {
      "version": "0.11.2"
    },
    "varInspector": {
      "cols": {
        "lenName": 16,
        "lenType": 16,
        "lenVar": 40
      },
      "kernels_config": {
        "python": {
          "delete_cmd_postfix": "",
          "delete_cmd_prefix": "del ",
          "library": "var_list.py",
          "varRefreshCmd": "print(var_dic_list())"
        },
        "r": {
          "delete_cmd_postfix": ") ",
          "delete_cmd_prefix": "rm(",
          "library": "var_list.r",
          "varRefreshCmd": "cat(var_dic_list()) "
        }
      },
      "types_to_exclude": [
        "module",
        "function",
        "builtin_function_or_method",
        "instance",
        "_Feature"
      ],
      "window_display": false
    }
  },
  "cells": [
    {
      "cell_type": "code",
      "metadata": {
        "colab_type": "code",
        "id": "rUVgL1wNNajZ",
        "colab": {}
      },
      "source": [
        "# Install Java, Spark, and Findspark\n",
        "!apt-get install openjdk-8-jdk-headless -qq > /dev/null\n",
        "!wget -q http://www-us.apache.org/dist/spark/spark-2.4.6/spark-2.4.6-bin-hadoop2.7.tgz\n",
        "!tar xf spark-2.4.6-bin-hadoop2.7.tgz\n",
        "!pip install -q findspark\n",
        "\n",
        "# Set Environment Variables\n",
        "import os\n",
        "os.environ[\"JAVA_HOME\"] = \"/usr/lib/jvm/java-8-openjdk-amd64\"\n",
        "os.environ[\"SPARK_HOME\"] = \"/content/spark-2.4.6-bin-hadoop2.7\"\n",
        "\n",
        "# Start a SparkSession\n",
        "import findspark\n",
        "findspark.init()"
      ],
      "execution_count": null,
      "outputs": []
    },
    {
      "cell_type": "code",
      "metadata": {
        "id": "9i8XEf2ULlFJ",
        "colab_type": "code",
        "colab": {}
      },
      "source": [
        "# Start Spark session\n",
        "from pyspark.sql import SparkSession\n",
        "spark = SparkSession.builder.appName(\"NaiveBayes\").getOrCreate()\n"
      ],
      "execution_count": null,
      "outputs": []
    },
    {
      "cell_type": "markdown",
      "metadata": {
        "id": "jUh_zAeN6dWm",
        "colab_type": "text"
      },
      "source": [
        ""
      ]
    },
    {
      "cell_type": "code",
      "metadata": {
        "id": "ekq5GegOvJVX",
        "colab_type": "code",
        "colab": {
          "base_uri": "https://localhost:8080/",
          "height": 35
        },
        "outputId": "c0f18a2b-147c-420e-b0fd-5e93a59e6eff"
      },
      "source": [
        " from pyspark.sql import SparkSession \n",
        "\n",
        " spark = SparkSession.builder.master(\"local\").getOrCreate() \n",
        " print(spark.sparkContext.version)"
      ],
      "execution_count": null,
      "outputs": [
        {
          "output_type": "stream",
          "text": [
            "2.4.6\n"
          ],
          "name": "stdout"
        }
      ]
    },
    {
      "cell_type": "code",
      "metadata": {
        "id": "1efqDIwqzL6t",
        "colab_type": "code",
        "colab": {}
      },
      "source": [
        "import pandas as pd\n",
        "from pyspark.sql import SQLContext\n",
        "sc =spark.sparkContext"
      ],
      "execution_count": null,
      "outputs": []
    },
    {
      "cell_type": "code",
      "metadata": {
        "id": "g_tJ26efTsxF",
        "colab_type": "code",
        "colab": {}
      },
      "source": [
        "sqlContext = SQLContext(sc)"
      ],
      "execution_count": null,
      "outputs": []
    },
    {
      "cell_type": "code",
      "metadata": {
        "id": "BunmszOrSmZW",
        "colab_type": "code",
        "colab": {}
      },
      "source": [
        "# text processing\n",
        "from nltk.corpus import stopwords\n",
        "import re as re\n",
        "from pyspark.ml.feature import CountVectorizer, IDF"
      ],
      "execution_count": null,
      "outputs": []
    },
    {
      "cell_type": "code",
      "metadata": {
        "id": "Iu3kL5sHwFvv",
        "colab_type": "code",
        "colab": {}
      },
      "source": [
        "# building the model\n",
        "from pyspark.mllib.linalg import Vector, Vectors\n",
        "from pyspark.mllib.clustering import LDA, LDAModel"
      ],
      "execution_count": null,
      "outputs": []
    },
    {
      "cell_type": "code",
      "metadata": {
        "id": "iKm0HFL3VK_Y",
        "colab_type": "code",
        "colab": {
          "base_uri": "https://localhost:8080/",
          "height": 715
        },
        "outputId": "0c01de7c-2d01-4d64-8b16-318b0979c44c"
      },
      "source": [
        "from pyspark import SparkFiles\n",
        "from pyspark.sql.types import StructField,IntegerType, StructType,StringType\n",
        "newDF=[ StructField(\"review_id\",IntegerType(),True),\n",
        "        StructField(\"property_id\",IntegerType(),True),\n",
        "       StructField(\"number_of_reviews\",IntegerType(),True),\n",
        "       StructField(\"review_scores_rating\",IntegerType(),True),\n",
        "       StructField(\"review_scores_accuracy\",IntegerType(),True),\n",
        "       StructField(\"review_scores_checkin\", IntegerType(),True),\n",
        "       StructField(\"review_scores_communication\",IntegerType(),True),\n",
        "       StructField(\"review_scores_value\",IntegerType(),True),\n",
        "       StructField(\"review_scores_location\",IntegerType(),True),\n",
        "        StructField(\"comments\",StringType(),True)\n",
        "       ]\n",
        "finalStruct=StructType(fields=newDF)\n",
        "url =\"https://data-analytics-airbnb.s3.us-east-2.amazonaws.com/Data/review.csv\"\n",
        "spark.sparkContext.addFile(url)\n",
        "df=spark.read.csv(SparkFiles.get(\"review.csv\"), sep=\",\",schema=finalStruct,header=True, timestampFormat=\"yyyy/MM/dd\")\n",
        "# df_clean = df.dropna()\n",
        "df = df.dropna()\n",
        "df.show()\n",
        "df.printSchema()"
      ],
      "execution_count": null,
      "outputs": [
        {
          "output_type": "stream",
          "text": [
            "+---------+-----------+-----------------+--------------------+----------------------+---------------------+---------------------------+-------------------+----------------------+--------------------+\n",
            "|review_id|property_id|number_of_reviews|review_scores_rating|review_scores_accuracy|review_scores_checkin|review_scores_communication|review_scores_value|review_scores_location|            comments|\n",
            "+---------+-----------+-----------------+--------------------+----------------------+---------------------+---------------------------+-------------------+----------------------+--------------------+\n",
            "|        1|   14078522|               14|                 100|                    10|                   10|                         10|                 10|                    10|My wife, son and ...|\n",
            "|        2|   14078522|               14|                 100|                    10|                   10|                         10|                 10|                    10|We loved staying ...|\n",
            "|        3|   14078522|               14|                 100|                    10|                   10|                         10|                 10|                    10|This was an amazi...|\n",
            "|        4|   14078522|               14|                 100|                    10|                   10|                         10|                 10|                    10| Always a pleasure!!|\n",
            "|        5|   14078522|               14|                 100|                    10|                   10|                         10|                 10|                    10|This is the ultim...|\n",
            "|        6|   14078522|               14|                 100|                    10|                   10|                         10|                 10|                    10|Beautiful home wi...|\n",
            "|        7|   14078522|               14|                 100|                    10|                   10|                         10|                 10|                    10|PERFECT Location ...|\n",
            "|        8|   14078522|               14|                 100|                    10|                   10|                         10|                 10|                    10|Kirsten is a grea...|\n",
            "|        9|   14078522|               14|                 100|                    10|                   10|                         10|                 10|                    10|I thought this pl...|\n",
            "|       10|   14078522|               14|                 100|                    10|                   10|                         10|                 10|                    10|The room was clea...|\n",
            "|       11|   14078522|               14|                 100|                    10|                   10|                         10|                 10|                    10|Very clean house ...|\n",
            "|       12|   14078522|               14|                 100|                    10|                   10|                         10|                 10|                    10|Kirsten was a won...|\n",
            "|       13|   14078522|               14|                 100|                    10|                   10|                         10|                 10|                    10|While close to th...|\n",
            "|       14|   14078522|               14|                 100|                    10|                   10|                         10|                 10|                    10|This has quickly ...|\n",
            "|       15|   14078522|               14|                 100|                    10|                   10|                         10|                 10|                    10|The house is alwa...|\n",
            "|       16|   14078522|               14|                 100|                    10|                   10|                         10|                 10|                    10|We went to a wedd...|\n",
            "|       17|   14078522|               14|                 100|                    10|                   10|                         10|                 10|                    10|My visit at Kirst...|\n",
            "|       18|   14078522|               14|                 100|                    10|                   10|                         10|                 10|                    10|This place was th...|\n",
            "|       19|   14078522|               14|                 100|                    10|                   10|                         10|                 10|                    10|This is a great p...|\n",
            "|       20|   14078522|               14|                 100|                    10|                   10|                         10|                 10|                    10|Kirsten and Robbi...|\n",
            "+---------+-----------+-----------------+--------------------+----------------------+---------------------+---------------------------+-------------------+----------------------+--------------------+\n",
            "only showing top 20 rows\n",
            "\n",
            "root\n",
            " |-- review_id: integer (nullable = true)\n",
            " |-- property_id: integer (nullable = true)\n",
            " |-- number_of_reviews: integer (nullable = true)\n",
            " |-- review_scores_rating: integer (nullable = true)\n",
            " |-- review_scores_accuracy: integer (nullable = true)\n",
            " |-- review_scores_checkin: integer (nullable = true)\n",
            " |-- review_scores_communication: integer (nullable = true)\n",
            " |-- review_scores_value: integer (nullable = true)\n",
            " |-- review_scores_location: integer (nullable = true)\n",
            " |-- comments: string (nullable = true)\n",
            "\n"
          ],
          "name": "stdout"
        }
      ]
    },
    {
      "cell_type": "code",
      "metadata": {
        "id": "HzcXNSLuRFHA",
        "colab_type": "code",
        "colab": {}
      },
      "source": [
        "# url =\"https://data-analytics-airbnb.s3.us-east-2.amazonaws.com/Data/review.csv\"\n",
        "# spark.sparkContext.addFile(url)\n",
        "# df=spark.read.csv(SparkFiles.get(\"review.csv\"), sep=\",\",header=True, schema=finalStruct, timestampFormat=\"yyyy/MM/dd\")\n",
        "# df.show()\n",
        "# df_clean = df.dropna()\n",
        "from pyspark.ml.feature import Bucketizer\n",
        "\n",
        "df_buck = Bucketizer(splits=[0, 41, 71, 100],inputCol=\"review_scores_rating\", outputCol=\"label\").setHandleInvalid(\"keep\").transform(df)\n",
        "# df_buck = bucketizer.setHandleInvalid(\"keep\").transform(df)\n",
        "# df_buck.show(truncate=False)"
      ],
      "execution_count": null,
      "outputs": []
    },
    {
      "cell_type": "code",
      "metadata": {
        "colab_type": "code",
        "id": "qnI0zdY5NYCJ",
        "colab": {}
      },
      "source": [
        "# # Read in data from S3 Buckets\n",
        "# from pyspark import SparkFiles\n",
        "# # from pyspark.sql.types import StructField,IntegerType, StructType,StringType\n",
        "# from pyspark.ml.feature import Bucketizer\n",
        "# url =\"https://data-analytics-airbnb.s3.us-east-2.amazonaws.com/Data/review.csv\"\n",
        "# spark.sparkContext.addFile(url)\n",
        "# df = spark.read.csv(SparkFiles.get(\"review.csv\"), sep=\",\", header=True, inferSchema=True, timestampFormat=\"yyyy/MM/dd\")\n",
        "\n",
        "# # Show DataFrame\n",
        "# df_clean = df.dropna()\n",
        "\n",
        "\n",
        "# df_new = df_clean.withColumn(\"review_scores_rating\", df_clean['review_scores_rating'].cast('float'))\n",
        "# df_new = df_clean.withColumn(\"number_of_reviews\", df_clean['number_of_reviews'].cast('float'))\n",
        "# df_new_2 = df_clean.withColumn(\"review_scores_accuracy\", df_clean['review_scores_accuracy'].cast('float'))\n",
        "# df_new_3 = df_clean.withColumn(\"review_scores_communication\", df_clean['review_scores_communication'].cast('float'))\n",
        "# df_new_4 = df_clean.withColumn(\"review_scores_value\", df_clean['review_scores_value'].cast('float'))\n",
        "# df_new_5 = df_clean.withColumn(\"review_scores_location\", df_clean['review_scores_location'].cast('float'))\n",
        "# bucketizer = Bucketizer(splits=[ 0, 40, 70, 100],inputCol=\"review_scores_rating\", outputCol=\"label\")\n",
        "# df_buck = bucketizer.setHandleInvalid(\"keep\").transform(df_new)\n",
        "# df_buck.show(truncate=False)"
      ],
      "execution_count": null,
      "outputs": []
    },
    {
      "cell_type": "code",
      "metadata": {
        "id": "skrQY1CKcdCj",
        "colab_type": "code",
        "colab": {
          "base_uri": "https://localhost:8080/",
          "height": 1000
        },
        "outputId": "a03fc9d8-c262-4173-97ad-0c7644bfcff7"
      },
      "source": [
        "df_buck.orderBy(df[\"review_scores_rating\"]).show(50)"
      ],
      "execution_count": null,
      "outputs": [
        {
          "output_type": "stream",
          "text": [
            "+---------+-----------+-----------------+--------------------+----------------------+---------------------+---------------------------+-------------------+----------------------+-----------------------------------+-----+\n",
            "|review_id|property_id|number_of_reviews|review_scores_rating|review_scores_accuracy|review_scores_checkin|review_scores_communication|review_scores_value|review_scores_location|                           comments|label|\n",
            "+---------+-----------+-----------------+--------------------+----------------------+---------------------+---------------------------+-------------------+----------------------+-----------------------------------+-----+\n",
            "|   416524|   16181951|                1|                  20|                     2|                    2|                          2|                  2|                     2|               Norma never respo...|  0.0|\n",
            "|   456377|    9617789|                1|                  20|                     6|                    2|                          6|                 10|                     4|               I have to say I w...|  0.0|\n",
            "|   474544|   14983931|                1|                  20|                     2|                    2|                          2|                  2|                     2|               This is a horrifi...|  0.0|\n",
            "|   422601|    7790855|                1|                  20|                     2|                    2|                          2|                  2|                     2|               First time for ke...|  0.0|\n",
            "|   474545|   14983931|                1|                  20|                     2|                    2|                          2|                  2|                     2|               Hostel-style set ...|  0.0|\n",
            "|   703744|    3264791|                1|                  20|                     2|                    8|                          8|                  2|                     2|               I did not realize...|  0.0|\n",
            "|   590005|    4708239|                2|                  30|                     4|                    9|                          8|                  5|                     5|               The general apart...|  0.0|\n",
            "|   590004|    4708239|                2|                  30|                     4|                    9|                          8|                  5|                     5|               The surrounding o...|  0.0|\n",
            "|   329224|   14215500|                1|                  40|                     6|                    6|                          8|                  6|                     4|               I had a terrible ...|  0.0|\n",
            "|   157938|   10236205|                2|                  40|                     4|                   10|                         10|                  6|                     4|               The host canceled...|  0.0|\n",
            "|   386394|   18426357|                1|                  40|                     4|                    6|                          4|                 10|                     4|               The room was quit...|  0.0|\n",
            "|   535330|    9739269|                1|                  40|                     8|                   10|                         10|                 10|                     2|               Neighborhood is g...|  0.0|\n",
            "|   370554|    7032225|                1|                  40|                     2|                   10|                         10|                 10|                     8|                               Good|  0.0|\n",
            "|   157937|   10236205|                2|                  40|                     4|                   10|                         10|                  6|                     4|               Host allowed us i...|  0.0|\n",
            "|   370555|    7032225|                1|                  40|                     2|                   10|                         10|                 10|                     8|               Was first time we...|  0.0|\n",
            "|   370553|    7032225|                1|                  40|                     2|                   10|                         10|                 10|                     8|               Paul and his wife...|  0.0|\n",
            "|   475797|   13508254|                1|                  40|                     2|                    6|                          4|                  4|                     4|               This is not at th...|  0.0|\n",
            "|   237666|    7859270|                1|                  40|                    10|                    4|                          4|                  4|                     4|               Stressful but not...|  0.0|\n",
            "|   579595|   18008382|                2|                  50|                    10|                   10|                         10|                  8|                     8|               The flexibility w...|  1.0|\n",
            "|   579580|   18008382|                2|                  50|                    10|                   10|                         10|                  8|                     8|               Quite, simple & v...|  1.0|\n",
            "|   579591|   18008382|                2|                  50|                    10|                   10|                         10|                  8|                     8|请注意尊重房主做为穆斯林的生活习惯｡|  1.0|\n",
            "|   579596|   18008382|                2|                  50|                    10|                   10|                         10|                  8|                     8|               Very helpful host...|  1.0|\n",
            "|   579589|   18008382|                2|                  50|                    10|                   10|                         10|                  8|                     8|                                 ..|  1.0|\n",
            "|   579572|   18008382|                2|                  50|                    10|                   10|                         10|                  8|                     8|               The family was ve...|  1.0|\n",
            "|   579593|   18008382|                2|                  50|                    10|                   10|                         10|                  8|                     8|               Nice place and co...|  1.0|\n",
            "|   579582|   18008382|                2|                  50|                    10|                   10|                         10|                  8|                     8|               We enjoyed our st...|  1.0|\n",
            "|   579588|   18008382|                2|                  50|                    10|                   10|                         10|                  8|                     8|               The room was as s...|  1.0|\n",
            "|   579568|   18008382|                2|                  50|                    10|                   10|                         10|                  8|                     8|               Nice room for a q...|  1.0|\n",
            "|   579590|   18008382|                2|                  50|                    10|                   10|                         10|                  8|                     8|               I will come back ...|  1.0|\n",
            "|   579583|   18008382|                2|                  50|                    10|                   10|                         10|                  8|                     8|                        Very goo~d.|  1.0|\n",
            "|   579592|   18008382|                2|                  50|                    10|                   10|                         10|                  8|                     8|               Great private bed...|  1.0|\n",
            "|   579576|   18008382|                2|                  50|                    10|                   10|                         10|                  8|                     8|               Good place for th...|  1.0|\n",
            "|   579594|   18008382|                2|                  50|                    10|                   10|                         10|                  8|                     8|               Rafay was flexibl...|  1.0|\n",
            "|   579597|   18008382|                2|                  50|                    10|                   10|                         10|                  8|                     8|               Thanks for welcom...|  1.0|\n",
            "|   579609|   18008382|                2|                  50|                    10|                   10|                         10|                  8|                     8|               A great value, fr...|  1.0|\n",
            "|   579607|   18008382|                2|                  50|                    10|                   10|                         10|                  8|                     8|               Wonderful place t...|  1.0|\n",
            "|   579571|   18008382|                2|                  50|                    10|                   10|                         10|                  8|                     8|               Lovely place and ...|  1.0|\n",
            "|   579575|   18008382|                2|                  50|                    10|                   10|                         10|                  8|                     8|               I would not recom...|  1.0|\n",
            "|   579570|   18008382|                2|                  50|                    10|                   10|                         10|                  8|                     8|               The host was love...|  1.0|\n",
            "|   579604|   18008382|                2|                  50|                    10|                   10|                         10|                  8|                     8|               Great place, very...|  1.0|\n",
            "|   579569|   18008382|                2|                  50|                    10|                   10|                         10|                  8|                     8|               You should know t...|  1.0|\n",
            "|   579574|   18008382|                2|                  50|                    10|                   10|                         10|                  8|                     8|               Cant beat the pri...|  1.0|\n",
            "|   579578|   18008382|                2|                  50|                    10|                   10|                         10|                  8|                     8|               Great place to st...|  1.0|\n",
            "|   579584|   18008382|                2|                  50|                    10|                   10|                         10|                  8|                     8|               Nice place with n...|  1.0|\n",
            "|   579598|   18008382|                2|                  50|                    10|                   10|                         10|                  8|                     8|               Amazing hospitali...|  1.0|\n",
            "|   579599|   18008382|                2|                  50|                    10|                   10|                         10|                  8|                     8|               Friendly host. Th...|  1.0|\n",
            "|   579600|   18008382|                2|                  50|                    10|                   10|                         10|                  8|                     8|               ONE OF THE BETTER...|  1.0|\n",
            "|   579601|   18008382|                2|                  50|                    10|                   10|                         10|                  8|                     8|               Rafays place was ...|  1.0|\n",
            "|   579602|   18008382|                2|                  50|                    10|                   10|                         10|                  8|                     8|               Rafay was a great...|  1.0|\n",
            "|   579579|   18008382|                2|                  50|                    10|                   10|                         10|                  8|                     8|               My staying  with ...|  1.0|\n",
            "+---------+-----------+-----------------+--------------------+----------------------+---------------------+---------------------------+-------------------+----------------------+-----------------------------------+-----+\n",
            "only showing top 50 rows\n",
            "\n"
          ],
          "name": "stdout"
        }
      ]
    },
    {
      "cell_type": "code",
      "metadata": {
        "colab_type": "code",
        "id": "4BbzYExyNYCR",
        "colab": {
          "base_uri": "https://localhost:8080/",
          "height": 495
        },
        "outputId": "13bc6cc0-0f23-4a2a-a038-a54ae68eff54"
      },
      "source": [
        "from pyspark.sql.functions import length\n",
        "# Create a length column to be used as a future feature \n",
        "data_df = df_buck.withColumn('length', length(df_buck['comments']))\n",
        "data_df.show()"
      ],
      "execution_count": null,
      "outputs": [
        {
          "output_type": "stream",
          "text": [
            "+---------+-----------+-----------------+--------------------+----------------------+---------------------+---------------------------+-------------------+----------------------+--------------------+-----+------+\n",
            "|review_id|property_id|number_of_reviews|review_scores_rating|review_scores_accuracy|review_scores_checkin|review_scores_communication|review_scores_value|review_scores_location|            comments|label|length|\n",
            "+---------+-----------+-----------------+--------------------+----------------------+---------------------+---------------------------+-------------------+----------------------+--------------------+-----+------+\n",
            "|        1|   14078522|               14|                 100|                    10|                   10|                         10|                 10|                    10|My wife, son and ...|  2.0|   658|\n",
            "|        2|   14078522|               14|                 100|                    10|                   10|                         10|                 10|                    10|We loved staying ...|  2.0|   355|\n",
            "|        3|   14078522|               14|                 100|                    10|                   10|                         10|                 10|                    10|This was an amazi...|  2.0|   477|\n",
            "|        4|   14078522|               14|                 100|                    10|                   10|                         10|                 10|                    10| Always a pleasure!!|  2.0|    19|\n",
            "|        5|   14078522|               14|                 100|                    10|                   10|                         10|                 10|                    10|This is the ultim...|  2.0|   226|\n",
            "|        6|   14078522|               14|                 100|                    10|                   10|                         10|                 10|                    10|Beautiful home wi...|  2.0|   115|\n",
            "|        7|   14078522|               14|                 100|                    10|                   10|                         10|                 10|                    10|PERFECT Location ...|  2.0|   583|\n",
            "|        8|   14078522|               14|                 100|                    10|                   10|                         10|                 10|                    10|Kirsten is a grea...|  2.0|   107|\n",
            "|        9|   14078522|               14|                 100|                    10|                   10|                         10|                 10|                    10|I thought this pl...|  2.0|   261|\n",
            "|       10|   14078522|               14|                 100|                    10|                   10|                         10|                 10|                    10|The room was clea...|  2.0|   351|\n",
            "|       11|   14078522|               14|                 100|                    10|                   10|                         10|                 10|                    10|Very clean house ...|  2.0|   189|\n",
            "|       12|   14078522|               14|                 100|                    10|                   10|                         10|                 10|                    10|Kirsten was a won...|  2.0|   465|\n",
            "|       13|   14078522|               14|                 100|                    10|                   10|                         10|                 10|                    10|While close to th...|  2.0|   117|\n",
            "|       14|   14078522|               14|                 100|                    10|                   10|                         10|                 10|                    10|This has quickly ...|  2.0|   142|\n",
            "|       15|   14078522|               14|                 100|                    10|                   10|                         10|                 10|                    10|The house is alwa...|  2.0|   108|\n",
            "|       16|   14078522|               14|                 100|                    10|                   10|                         10|                 10|                    10|We went to a wedd...|  2.0|   147|\n",
            "|       17|   14078522|               14|                 100|                    10|                   10|                         10|                 10|                    10|My visit at Kirst...|  2.0|   245|\n",
            "|       18|   14078522|               14|                 100|                    10|                   10|                         10|                 10|                    10|This place was th...|  2.0|    70|\n",
            "|       19|   14078522|               14|                 100|                    10|                   10|                         10|                 10|                    10|This is a great p...|  2.0|   150|\n",
            "|       20|   14078522|               14|                 100|                    10|                   10|                         10|                 10|                    10|Kirsten and Robbi...|  2.0|   210|\n",
            "+---------+-----------+-----------------+--------------------+----------------------+---------------------+---------------------------+-------------------+----------------------+--------------------+-----+------+\n",
            "only showing top 20 rows\n",
            "\n"
          ],
          "name": "stdout"
        }
      ]
    },
    {
      "cell_type": "code",
      "metadata": {
        "id": "EtHimHnUkKgb",
        "colab_type": "code",
        "colab": {
          "base_uri": "https://localhost:8080/",
          "height": 54
        },
        "outputId": "2153618c-8028-440e-87c7-930aec3ebef4"
      },
      "source": [
        "pip install langdetect"
      ],
      "execution_count": null,
      "outputs": [
        {
          "output_type": "stream",
          "text": [
            "Requirement already satisfied: langdetect in /usr/local/lib/python3.6/dist-packages (1.0.8)\n",
            "Requirement already satisfied: six in /usr/local/lib/python3.6/dist-packages (from langdetect) (1.12.0)\n"
          ],
          "name": "stdout"
        }
      ]
    },
    {
      "cell_type": "code",
      "metadata": {
        "id": "-D_Nb7rarcqG",
        "colab_type": "code",
        "colab": {}
      },
      "source": [
        "from pyspark.sql.functions import col,udf,lower, regexp_replace\n",
        "from langdetect import detect"
      ],
      "execution_count": null,
      "outputs": []
    },
    {
      "cell_type": "code",
      "metadata": {
        "id": "Ouj2vkqBeA5l",
        "colab_type": "code",
        "colab": {}
      },
      "source": [
        "data_df = data_df.withColumn('comments', lower(col('comments')))\n",
        "data_df = data_df.withColumn('comments', regexp_replace(col('comments'),'[\\.,!]', ''))\n",
        "# Apparently unable to run regexp_replace within a UDF, so I'm running the code normally outside of a function.\n",
        "# Deciding to move this code to the end of the notebook as the idf.fit was taking hours to load"
      ],
      "execution_count": null,
      "outputs": []
    },
    {
      "cell_type": "code",
      "metadata": {
        "id": "pQLypyrpkISA",
        "colab_type": "code",
        "colab": {}
      },
      "source": [
        "# defining python functions\n",
        "# def get_rid_of_punctuations(comments):\n",
        "#   punctuations = ['\\.', '!']\n",
        "#   review_lower = lower(col(comments))\n",
        "#   for i in range(len(punctuations)):\n",
        "#     review_lower = regexp_replace(review_lower, punctuations[i], \"\")\n",
        "#     return review_lower\n",
        "\n",
        "def language_detection(text):\n",
        "    try:\n",
        "        return detect(text)\n",
        "    except:\n",
        "        return None"
      ],
      "execution_count": null,
      "outputs": []
    },
    {
      "cell_type": "code",
      "metadata": {
        "id": "gaOwGPKxkR46",
        "colab_type": "code",
        "colab": {}
      },
      "source": [
        "# converting functions to UDF\n",
        "# punc_rem = udf(lambda z: get_rid_of_punctuations(z), StringType())\n",
        "lang_det = udf(lambda y: language_detection(y), StringType())"
      ],
      "execution_count": null,
      "outputs": []
    },
    {
      "cell_type": "code",
      "metadata": {
        "id": "sQAKkyrscbK1",
        "colab_type": "code",
        "colab": {}
      },
      "source": [
        "# # Are we wanting to replace comments with comments missing punctuation? I'm running it as if we did, if not, just rename \n",
        "# data_df = data_df.withColumn('comments', punc_rem(col('comments')))\n",
        "# # the first 'comments' to a new column name"
      ],
      "execution_count": null,
      "outputs": []
    },
    {
      "cell_type": "code",
      "metadata": {
        "id": "Up_xhv6LkUxr",
        "colab_type": "code",
        "colab": {}
      },
      "source": [
        "data_df = data_df.withColumn('language', lang_det(col('comments')))"
      ],
      "execution_count": null,
      "outputs": []
    },
    {
      "cell_type": "code",
      "metadata": {
        "id": "vAkiE1JdeQx1",
        "colab_type": "code",
        "colab": {}
      },
      "source": [
        "# We're wanting to redefine data_df as data_df that only contains english reviews, right? Don't run this cell if not.\n",
        "# yes only english_df not other languages.\n",
        "data_df = data_df.filter(data_df.language == \"en\")"
      ],
      "execution_count": null,
      "outputs": []
    },
    {
      "cell_type": "code",
      "metadata": {
        "id": "XlnTVK_KbdLd",
        "colab_type": "code",
        "colab": {}
      },
      "source": [
        "# data_df.show(truncate=False)"
      ],
      "execution_count": null,
      "outputs": []
    },
    {
      "cell_type": "markdown",
      "metadata": {
        "colab_type": "text",
        "id": "od7Qj0sxNYCW"
      },
      "source": [
        "### Feature Transformations\n"
      ]
    },
    {
      "cell_type": "code",
      "metadata": {
        "id": "X-H-k6uHlTYq",
        "colab_type": "code",
        "colab": {}
      },
      "source": [
        "from pyspark.ml.feature import Tokenizer, StopWordsRemover, HashingTF, IDF, StringIndexer\n",
        "# Create all the features to the data set\n",
        "# pos_neg_to_num = StringIndexer(inputCol='review_scores_rating',outputCol='label')\n",
        "tokenizer = Tokenizer(inputCol=\"comments\", outputCol=\"token_comments\")\n",
        "tokenized = tokenizer.transform(data_df)\n",
        "# tokenized.show()"
      ],
      "execution_count": null,
      "outputs": []
    },
    {
      "cell_type": "code",
      "metadata": {
        "id": "aBL4XLRw-qK0",
        "colab_type": "code",
        "colab": {}
      },
      "source": [
        "# Remove stop words\n",
        "remover = StopWordsRemover(inputCol='token_comments',outputCol='stop_tokens')\n",
        "# Transform new DataFrame\n",
        "removed_frame = remover.transform(tokenized)\n",
        "# removed_frame.show(truncate=False)"
      ],
      "execution_count": null,
      "outputs": []
    },
    {
      "cell_type": "code",
      "metadata": {
        "id": "N0iOs5mc-q6V",
        "colab_type": "code",
        "colab": {
          "base_uri": "https://localhost:8080/",
          "height": 495
        },
        "outputId": "de3b85b7-4306-45e8-8ed6-b47d68e4517a"
      },
      "source": [
        "# Show simplified review\n",
        "removed_frame.select(\"stop_tokens\").show()"
      ],
      "execution_count": null,
      "outputs": [
        {
          "output_type": "stream",
          "text": [
            "+--------------------+\n",
            "|         stop_tokens|\n",
            "+--------------------+\n",
            "|[wife, son, staye...|\n",
            "|[loved, staying, ...|\n",
            "|[amazing, airbnb,...|\n",
            "|  [always, pleasure]|\n",
            "|[ultimate, pet, a...|\n",
            "|[beautiful, home,...|\n",
            "|[perfect, locatio...|\n",
            "|[kirsten, great, ...|\n",
            "|[thought, place, ...|\n",
            "|[room, clean, bat...|\n",
            "|[clean, house, co...|\n",
            "|[kirsten, wonderf...|\n",
            "|[close, freeway, ...|\n",
            "|[quickly, become,...|\n",
            "|[house, always, c...|\n",
            "|[went, wedding, a...|\n",
            "|[visit, kirstens,...|\n",
            "|[place, best, com...|\n",
            "|[great, place, st...|\n",
            "|[kirsten, robbie,...|\n",
            "+--------------------+\n",
            "only showing top 20 rows\n",
            "\n"
          ],
          "name": "stdout"
        }
      ]
    },
    {
      "cell_type": "code",
      "metadata": {
        "id": "k9DPYTl8-rU0",
        "colab_type": "code",
        "colab": {}
      },
      "source": [
        "# Run the hashing term frequency\n",
        "hashingTF = HashingTF(inputCol=\"stop_tokens\", outputCol='hash_token')"
      ],
      "execution_count": null,
      "outputs": []
    },
    {
      "cell_type": "code",
      "metadata": {
        "id": "dZ5orYCcBA7W",
        "colab_type": "code",
        "colab": {
          "base_uri": "https://localhost:8080/",
          "height": 515
        },
        "outputId": "7c0461d1-63ca-4825-d974-c570e899836b"
      },
      "source": [
        "# Transform into a DF\n",
        "hashed_df = hashingTF.transform(removed_frame)\n",
        "hashed_df.show()"
      ],
      "execution_count": null,
      "outputs": [
        {
          "output_type": "stream",
          "text": [
            "+---------+-----------+-----------------+--------------------+----------------------+---------------------+---------------------------+-------------------+----------------------+--------------------+-----+------+--------+--------------------+--------------------+--------------------+\n",
            "|review_id|property_id|number_of_reviews|review_scores_rating|review_scores_accuracy|review_scores_checkin|review_scores_communication|review_scores_value|review_scores_location|            comments|label|length|language|      token_comments|         stop_tokens|          hash_token|\n",
            "+---------+-----------+-----------------+--------------------+----------------------+---------------------+---------------------------+-------------------+----------------------+--------------------+-----+------+--------+--------------------+--------------------+--------------------+\n",
            "|        1|   14078522|               14|                 100|                    10|                   10|                         10|                 10|                    10|my wife son and i...|  2.0|   658|      en|[my, wife, son, a...|[wife, son, staye...|(262144,[560,1395...|\n",
            "|        2|   14078522|               14|                 100|                    10|                   10|                         10|                 10|                    10|we loved staying ...|  2.0|   355|      en|[we, loved, stayi...|[loved, staying, ...|(262144,[14,8443,...|\n",
            "|        3|   14078522|               14|                 100|                    10|                   10|                         10|                 10|                    10|this was an amazi...|  2.0|   477|      en|[this, was, an, a...|[amazing, airbnb,...|(262144,[560,4319...|\n",
            "|        4|   14078522|               14|                 100|                    10|                   10|                         10|                 10|                    10|   always a pleasure|  2.0|    19|      en|[always, a, pleas...|  [always, pleasure]|(262144,[236821,2...|\n",
            "|        5|   14078522|               14|                 100|                    10|                   10|                         10|                 10|                    10|this is the ultim...|  2.0|   226|      en|[this, is, the, u...|[ultimate, pet, a...|(262144,[535,1789...|\n",
            "|        6|   14078522|               14|                 100|                    10|                   10|                         10|                 10|                    10|beautiful home wi...|  2.0|   115|      en|[beautiful, home,...|[beautiful, home,...|(262144,[1998,409...|\n",
            "|        7|   14078522|               14|                 100|                    10|                   10|                         10|                 10|                    10|perfect location ...|  2.0|   583|      en|[perfect, locatio...|[perfect, locatio...|(262144,[6183,218...|\n",
            "|        8|   14078522|               14|                 100|                    10|                   10|                         10|                 10|                    10|kirsten is a grea...|  2.0|   107|      en|[kirsten, is, a, ...|[kirsten, great, ...|(262144,[17893,21...|\n",
            "|        9|   14078522|               14|                 100|                    10|                   10|                         10|                 10|                    10|i thought this pl...|  2.0|   261|      en|[i, thought, this...|[thought, place, ...|(262144,[1998,198...|\n",
            "|       10|   14078522|               14|                 100|                    10|                   10|                         10|                 10|                    10|the room was clea...|  2.0|   351|      en|[the, room, was, ...|[room, clean, bat...|(262144,[9521,178...|\n",
            "|       11|   14078522|               14|                 100|                    10|                   10|                         10|                 10|                    10|very clean house ...|  2.0|   189|      en|[very, clean, hou...|[clean, house, co...|(262144,[21316,30...|\n",
            "|       12|   14078522|               14|                 100|                    10|                   10|                         10|                 10|                    10|kirsten was a won...|  2.0|   465|      en|[kirsten, was, a,...|[kirsten, wonderf...|(262144,[560,8734...|\n",
            "|       13|   14078522|               14|                 100|                    10|                   10|                         10|                 10|                    10|while close to th...|  2.0|   117|      en|[while, close, to...|[close, freeway, ...|(262144,[17893,37...|\n",
            "|       14|   14078522|               14|                 100|                    10|                   10|                         10|                 10|                    10|this has quickly ...|  2.0|   142|      en|[this, has, quick...|[quickly, become,...|(262144,[25964,62...|\n",
            "|       15|   14078522|               14|                 100|                    10|                   10|                         10|                 10|                    10|the house is alwa...|  2.0|   108|      en|[the, house, is, ...|[house, always, c...|(262144,[11018,21...|\n",
            "|       16|   14078522|               14|                 100|                    10|                   10|                         10|                 10|                    10|we went to a wedd...|  2.0|   147|      en|[we, went, to, a,...|[went, wedding, a...|(262144,[11996,13...|\n",
            "|       17|   14078522|               14|                 100|                    10|                   10|                         10|                 10|                    10|my visit at kirst...|  2.0|   245|      en|[my, visit, at, k...|[visit, kirstens,...|(262144,[8804,178...|\n",
            "|       18|   14078522|               14|                 100|                    10|                   10|                         10|                 10|                    10|this place was th...|  2.0|    70|      en|[this, place, was...|[place, best, com...|(262144,[61231,73...|\n",
            "|       19|   14078522|               14|                 100|                    10|                   10|                         10|                 10|                    10|this is a great p...|  2.0|   150|      en|[this, is, a, gre...|[great, place, st...|(262144,[43610,49...|\n",
            "|       20|   14078522|               14|                 100|                    10|                   10|                         10|                 10|                    10|kirsten and robbi...|  2.0|   210|      en|[kirsten, and, ro...|[kirsten, robbie,...|(262144,[3121,480...|\n",
            "+---------+-----------+-----------------+--------------------+----------------------+---------------------+---------------------------+-------------------+----------------------+--------------------+-----+------+--------+--------------------+--------------------+--------------------+\n",
            "only showing top 20 rows\n",
            "\n"
          ],
          "name": "stdout"
        }
      ]
    },
    {
      "cell_type": "code",
      "metadata": {
        "id": "cDQlMIXy3paJ",
        "colab_type": "code",
        "colab": {}
      },
      "source": [
        "# Fit the IDF on the data set \n",
        "idf = IDF(inputCol='hash_token', outputCol='idf_token')"
      ],
      "execution_count": null,
      "outputs": []
    },
    {
      "cell_type": "code",
      "metadata": {
        "id": "sVwfWpG_TIDa",
        "colab_type": "code",
        "colab": {
          "base_uri": "https://localhost:8080/",
          "height": 35
        },
        "outputId": "3f71eb65-1c03-427c-a2e3-24a15121c73b"
      },
      "source": [
        "print(idf)"
      ],
      "execution_count": null,
      "outputs": [
        {
          "output_type": "stream",
          "text": [
            "IDF_824e1a9daa69\n"
          ],
          "name": "stdout"
        }
      ]
    },
    {
      "cell_type": "code",
      "metadata": {
        "id": "DCxuv-qdDwkD",
        "colab_type": "code",
        "colab": {}
      },
      "source": [
        "# this command won't run\n",
        "idfModel = idf.fit(hashed_df)"
      ],
      "execution_count": null,
      "outputs": []
    },
    {
      "cell_type": "code",
      "metadata": {
        "id": "X1fwVfPLEbGD",
        "colab_type": "code",
        "colab": {}
      },
      "source": [
        "rescaledData = idfModel.transform(hashed_df)"
      ],
      "execution_count": null,
      "outputs": []
    },
    {
      "cell_type": "code",
      "metadata": {
        "id": "70QpAHOzD8aO",
        "colab_type": "code",
        "colab": {
          "base_uri": "https://localhost:8080/",
          "height": 35
        },
        "outputId": "553f2a8c-c959-46e0-ae91-a475583fe148"
      },
      "source": [
        "# Display the DataFrame\n",
        "rescaledData.select(\"token_comments\", \"idf_token\")\\\n",
        "# .show(truncate=False)"
      ],
      "execution_count": null,
      "outputs": [
        {
          "output_type": "execute_result",
          "data": {
            "text/plain": [
              "DataFrame[token_comments: array<string>, idf_token: vector]"
            ]
          },
          "metadata": {
            "tags": []
          },
          "execution_count": 31
        }
      ]
    },
    {
      "cell_type": "code",
      "metadata": {
        "colab_type": "code",
        "id": "yssO0_Q5NYCb",
        "colab": {}
      },
      "source": [
        "from pyspark.ml.feature import VectorAssembler\n",
        "from pyspark.ml.linalg import Vector\n",
        "\n",
        "# Create feature vectors\n",
        "clean_up = VectorAssembler(inputCols=['idf_token', 'length'], outputCol='features')\n",
        "output = clean_up.transform(rescaledData)"
      ],
      "execution_count": null,
      "outputs": []
    },
    {
      "cell_type": "code",
      "metadata": {
        "colab_type": "code",
        "id": "kDODyxF7NYCn",
        "colab": {
          "base_uri": "https://localhost:8080/",
          "height": 515
        },
        "outputId": "6daf6668-d6b8-4e81-e422-024a41ef8fbd"
      },
      "source": [
        "# Show label and resulting features\n",
        "output.show()\n",
        "# final_df = output.select(['points','country', 'winery','price']).show()"
      ],
      "execution_count": null,
      "outputs": [
        {
          "output_type": "stream",
          "text": [
            "+---------+-----------+-----------------+--------------------+----------------------+---------------------+---------------------------+-------------------+----------------------+--------------------+-----+------+--------+--------------------+--------------------+--------------------+--------------------+--------------------+\n",
            "|review_id|property_id|number_of_reviews|review_scores_rating|review_scores_accuracy|review_scores_checkin|review_scores_communication|review_scores_value|review_scores_location|            comments|label|length|language|      token_comments|         stop_tokens|          hash_token|           idf_token|            features|\n",
            "+---------+-----------+-----------------+--------------------+----------------------+---------------------+---------------------------+-------------------+----------------------+--------------------+-----+------+--------+--------------------+--------------------+--------------------+--------------------+--------------------+\n",
            "|        1|   14078522|               14|                 100|                    10|                   10|                         10|                 10|                    10|my wife son and i...|  2.0|   658|      en|[my, wife, son, a...|[wife, son, staye...|(262144,[560,1395...|(262144,[560,1395...|(262145,[560,1395...|\n",
            "|        2|   14078522|               14|                 100|                    10|                   10|                         10|                 10|                    10|we loved staying ...|  2.0|   355|      en|[we, loved, stayi...|[loved, staying, ...|(262144,[14,8443,...|(262144,[14,8443,...|(262145,[14,8443,...|\n",
            "|        3|   14078522|               14|                 100|                    10|                   10|                         10|                 10|                    10|this was an amazi...|  2.0|   477|      en|[this, was, an, a...|[amazing, airbnb,...|(262144,[560,4319...|(262144,[560,4319...|(262145,[560,4319...|\n",
            "|        4|   14078522|               14|                 100|                    10|                   10|                         10|                 10|                    10|   always a pleasure|  2.0|    19|      en|[always, a, pleas...|  [always, pleasure]|(262144,[236821,2...|(262144,[236821,2...|(262145,[236821,2...|\n",
            "|        5|   14078522|               14|                 100|                    10|                   10|                         10|                 10|                    10|this is the ultim...|  2.0|   226|      en|[this, is, the, u...|[ultimate, pet, a...|(262144,[535,1789...|(262144,[535,1789...|(262145,[535,1789...|\n",
            "|        6|   14078522|               14|                 100|                    10|                   10|                         10|                 10|                    10|beautiful home wi...|  2.0|   115|      en|[beautiful, home,...|[beautiful, home,...|(262144,[1998,409...|(262144,[1998,409...|(262145,[1998,409...|\n",
            "|        7|   14078522|               14|                 100|                    10|                   10|                         10|                 10|                    10|perfect location ...|  2.0|   583|      en|[perfect, locatio...|[perfect, locatio...|(262144,[6183,218...|(262144,[6183,218...|(262145,[6183,218...|\n",
            "|        8|   14078522|               14|                 100|                    10|                   10|                         10|                 10|                    10|kirsten is a grea...|  2.0|   107|      en|[kirsten, is, a, ...|[kirsten, great, ...|(262144,[17893,21...|(262144,[17893,21...|(262145,[17893,21...|\n",
            "|        9|   14078522|               14|                 100|                    10|                   10|                         10|                 10|                    10|i thought this pl...|  2.0|   261|      en|[i, thought, this...|[thought, place, ...|(262144,[1998,198...|(262144,[1998,198...|(262145,[1998,198...|\n",
            "|       10|   14078522|               14|                 100|                    10|                   10|                         10|                 10|                    10|the room was clea...|  2.0|   351|      en|[the, room, was, ...|[room, clean, bat...|(262144,[9521,178...|(262144,[9521,178...|(262145,[9521,178...|\n",
            "|       11|   14078522|               14|                 100|                    10|                   10|                         10|                 10|                    10|very clean house ...|  2.0|   189|      en|[very, clean, hou...|[clean, house, co...|(262144,[21316,30...|(262144,[21316,30...|(262145,[21316,30...|\n",
            "|       12|   14078522|               14|                 100|                    10|                   10|                         10|                 10|                    10|kirsten was a won...|  2.0|   465|      en|[kirsten, was, a,...|[kirsten, wonderf...|(262144,[560,8734...|(262144,[560,8734...|(262145,[560,8734...|\n",
            "|       13|   14078522|               14|                 100|                    10|                   10|                         10|                 10|                    10|while close to th...|  2.0|   117|      en|[while, close, to...|[close, freeway, ...|(262144,[17893,37...|(262144,[17893,37...|(262145,[17893,37...|\n",
            "|       14|   14078522|               14|                 100|                    10|                   10|                         10|                 10|                    10|this has quickly ...|  2.0|   142|      en|[this, has, quick...|[quickly, become,...|(262144,[25964,62...|(262144,[25964,62...|(262145,[25964,62...|\n",
            "|       15|   14078522|               14|                 100|                    10|                   10|                         10|                 10|                    10|the house is alwa...|  2.0|   108|      en|[the, house, is, ...|[house, always, c...|(262144,[11018,21...|(262144,[11018,21...|(262145,[11018,21...|\n",
            "|       16|   14078522|               14|                 100|                    10|                   10|                         10|                 10|                    10|we went to a wedd...|  2.0|   147|      en|[we, went, to, a,...|[went, wedding, a...|(262144,[11996,13...|(262144,[11996,13...|(262145,[11996,13...|\n",
            "|       17|   14078522|               14|                 100|                    10|                   10|                         10|                 10|                    10|my visit at kirst...|  2.0|   245|      en|[my, visit, at, k...|[visit, kirstens,...|(262144,[8804,178...|(262144,[8804,178...|(262145,[8804,178...|\n",
            "|       18|   14078522|               14|                 100|                    10|                   10|                         10|                 10|                    10|this place was th...|  2.0|    70|      en|[this, place, was...|[place, best, com...|(262144,[61231,73...|(262144,[61231,73...|(262145,[61231,73...|\n",
            "|       19|   14078522|               14|                 100|                    10|                   10|                         10|                 10|                    10|this is a great p...|  2.0|   150|      en|[this, is, a, gre...|[great, place, st...|(262144,[43610,49...|(262144,[43610,49...|(262145,[43610,49...|\n",
            "|       20|   14078522|               14|                 100|                    10|                   10|                         10|                 10|                    10|kirsten and robbi...|  2.0|   210|      en|[kirsten, and, ro...|[kirsten, robbie,...|(262144,[3121,480...|(262144,[3121,480...|(262145,[3121,480...|\n",
            "+---------+-----------+-----------------+--------------------+----------------------+---------------------+---------------------------+-------------------+----------------------+--------------------+-----+------+--------+--------------------+--------------------+--------------------+--------------------+--------------------+\n",
            "only showing top 20 rows\n",
            "\n"
          ],
          "name": "stdout"
        }
      ]
    },
    {
      "cell_type": "code",
      "metadata": {
        "colab_type": "code",
        "id": "WzfCQmrVNYCr",
        "colab": {}
      },
      "source": [
        "from pyspark.ml.classification import NaiveBayes\n",
        "# Break data down into a training set and a testing set\n",
        "training, testing = output.randomSplit([0.8, 0.2])\n",
        "\n",
        "# Create a Naive Bayes model and fit training data\n",
        "nb = NaiveBayes()\n",
        "predictor = nb.fit(training)"
      ],
      "execution_count": null,
      "outputs": []
    },
    {
      "cell_type": "code",
      "metadata": {
        "colab_type": "code",
        "id": "zeckHhg5NYCv",
        "colab": {
          "base_uri": "https://localhost:8080/",
          "height": 515
        },
        "outputId": "54ee6ed1-aaa6-4b6b-b59f-3e0c57611782"
      },
      "source": [
        "# Tranform the model with the testing data\n",
        "test_results = predictor.transform(testing)\n",
        "test_results.show()"
      ],
      "execution_count": null,
      "outputs": [
        {
          "output_type": "stream",
          "text": [
            "+---------+-----------+-----------------+--------------------+----------------------+---------------------+---------------------------+-------------------+----------------------+--------------------+-----+------+--------+--------------------+--------------------+--------------------+--------------------+--------------------+--------------------+--------------------+----------+\n",
            "|review_id|property_id|number_of_reviews|review_scores_rating|review_scores_accuracy|review_scores_checkin|review_scores_communication|review_scores_value|review_scores_location|            comments|label|length|language|      token_comments|         stop_tokens|          hash_token|           idf_token|            features|       rawPrediction|         probability|prediction|\n",
            "+---------+-----------+-----------------+--------------------+----------------------+---------------------+---------------------------+-------------------+----------------------+--------------------+-----+------+--------+--------------------+--------------------+--------------------+--------------------+--------------------+--------------------+--------------------+----------+\n",
            "|        1|   14078522|               14|                 100|                    10|                   10|                         10|                 10|                    10|my wife son and i...|  2.0|   658|      en|[my, wife, son, a...|[wife, son, staye...|(262144,[560,1395...|(262144,[560,1395...|(262145,[560,1395...|[-6101.5449276600...|       [0.0,0.0,1.0]|       2.0|\n",
            "|       10|   14078522|               14|                 100|                    10|                   10|                         10|                 10|                    10|the room was clea...|  2.0|   351|      en|[the, room, was, ...|[room, clean, bat...|(262144,[9521,178...|(262144,[9521,178...|(262145,[9521,178...|[-3510.8018034889...|[0.0,2.6148605116...|       2.0|\n",
            "|       24|   14078522|               14|                 100|                    10|                   10|                         10|                 10|                    10|well kept and cle...|  2.0|    46|      en|[well, kept, and,...|[well, kept, clea...|(262144,[21316,45...|(262144,[21316,45...|(262145,[21316,45...|[-357.02585931405...|[5.25267082533709...|       2.0|\n",
            "|       35|   14078522|               14|                 100|                    10|                   10|                         10|                 10|                    10|kirsten and her h...|  2.0|   177|      en|[kirsten, and, he...|[kirsten, husband...|(262144,[11018,17...|(262144,[11018,17...|(262145,[11018,17...|[-1410.3814271807...|[0.0,4.7818376646...|       2.0|\n",
            "|       52|   16068508|               38|                  98|                    10|                   10|                         10|                 10|                    10|it is a great pla...|  2.0|   203|      en|[it, is, a, great...|[great, place, st...|(262144,[4091,251...|(262144,[4091,251...|(262145,[4091,251...|[-1790.2206863219...|[0.0,3.4980517601...|       2.0|\n",
            "|       67|   16068508|               38|                  98|                    10|                   10|                         10|                 10|                    10|absolutely loved ...|  2.0|   103|      en|[absolutely, love...|[absolutely, love...|(262144,[33933,35...|(262144,[33933,35...|(262145,[33933,35...|[-858.07103142764...|[1.24144891503094...|       2.0|\n",
            "|       68|   16068508|               38|                  98|                    10|                   10|                         10|                 10|                    10|this was a really...|  2.0|   352|      en|[this, was, a, re...|[really, great, p...|(262144,[14,1998,...|(262144,[14,1998,...|(262145,[14,1998,...|[-3007.5149675705...|[0.0,6.8102378264...|       2.0|\n",
            "|       73|   16068508|               38|                  98|                    10|                   10|                         10|                 10|                    10|it was a good sta...|  2.0|    36|      en|[it, was, a, good...|[good, stay, coop...|(262144,[17893,73...|(262144,[17893,73...|(262145,[17893,73...|[-348.84126693449...|[3.06614394538718...|       2.0|\n",
            "|       76|   16068508|               38|                  98|                    10|                   10|                         10|                 10|                    10|our visit at coop...|  2.0|   287|      en|[our, visit, at, ...|[visit, coopers, ...|(262144,[15664,16...|(262144,[15664,16...|(262145,[15664,16...|[-2358.9575514850...|[0.0,1.6560778055...|       2.0|\n",
            "|       77|   16068508|               38|                  98|                    10|                   10|                         10|                 10|                    10|the place is just...|  2.0|   144|      en|[the, place, is, ...|[place, amazing, ...|(262144,[3530,164...|(262144,[3530,164...|(262145,[3530,164...|[-1427.8644457882...|[0.0,9.1385525170...|       2.0|\n",
            "|       81|   16068508|               38|                  98|                    10|                   10|                         10|                 10|                    10|my daughter and i...|  2.0|   448|      en|[my, daughter, an...|[daughter, came, ...|(262144,[9559,108...|(262144,[9559,108...|(262145,[9559,108...|[-4493.2022179432...|[0.0,5.6384794101...|       2.0|\n",
            "|       83|   16068508|               38|                  98|                    10|                   10|                         10|                 10|                    10|my parents are co...|  2.0|   389|      en|[my, parents, are...|[parents, coming,...|(262144,[9514,106...|(262144,[9514,106...|(262145,[9514,106...|[-3631.4015675062...|[0.0,4.6480561977...|       2.0|\n",
            "|       86|   16068508|               38|                  98|                    10|                   10|                         10|                 10|                    10|all the family ha...|  2.0|   194|      en|[all, the, family...|[family, really, ...|(262144,[14,12157...|(262144,[14,12157...|(262145,[14,12157...|[-1811.6935229847...|[0.0,2.9046395187...|       2.0|\n",
            "|       91|   16068508|               38|                  98|                    10|                   10|                         10|                 10|                    10|cooper and his fa...|  2.0|   188|      en|[cooper, and, his...|[cooper, family, ...|(262144,[31704,34...|(262144,[31704,34...|(262145,[31704,34...|[-1575.6932505747...|[0.0,5.1369561124...|       2.0|\n",
            "|       94|   16068508|               38|                  98|                    10|                   10|                         10|                 10|                    10|cooper & sandras ...|  2.0|   658|      en|[cooper, &, sandr...|[cooper, &, sandr...|(262144,[1998,119...|(262144,[1998,119...|(262145,[1998,119...|[-6330.6786886864...|       [0.0,0.0,1.0]|       2.0|\n",
            "|       95|   16068508|               38|                  98|                    10|                   10|                         10|                 10|                    10|amazing stay and ...|  2.0|   240|      en|[amazing, stay, a...|[amazing, stay, w...|(262144,[1998,164...|(262144,[1998,164...|(262145,[1998,164...|[-2124.1597560971...|[0.0,8.7979455364...|       2.0|\n",
            "|       97|   16068508|               38|                  98|                    10|                   10|                         10|                 10|                    10| very nice family...|  2.0|    91|      en|[, very, nice, fa...|[, nice, family, ...|(262144,[8261,223...|(262144,[8261,223...|(262145,[8261,223...|[-979.46657464607...|[6.76764441615006...|       2.0|\n",
            "|      101|   16068508|               38|                  98|                    10|                   10|                         10|                 10|                    10|cooper and family...|  2.0|   164|      en|[cooper, and, fam...|[cooper, family, ...|(262144,[11018,16...|(262144,[11018,16...|(262145,[11018,16...|[-1341.0174419467...|[0.0,2.4148901223...|       2.0|\n",
            "|      102|   16068508|               38|                  98|                    10|                   10|                         10|                 10|                    10|the home and room...|  2.0|   197|      en|[the, home, and, ...|[home, room, beau...|(262144,[14,1998,...|(262144,[14,1998,...|(262145,[14,1998,...|[-1580.9487156427...|[0.0,4.0447671168...|       2.0|\n",
            "|      108|   16068508|               38|                  98|                    10|                   10|                         10|                 10|                    10|fantastic library...|  2.0|    70|      en|[fantastic, libra...|[fantastic, libra...|(262144,[22346,72...|(262144,[22346,72...|(262145,[22346,72...|[-627.31257631045...|[1.11882888925912...|       2.0|\n",
            "+---------+-----------+-----------------+--------------------+----------------------+---------------------+---------------------------+-------------------+----------------------+--------------------+-----+------+--------+--------------------+--------------------+--------------------+--------------------+--------------------+--------------------+--------------------+----------+\n",
            "only showing top 20 rows\n",
            "\n"
          ],
          "name": "stdout"
        }
      ]
    },
    {
      "cell_type": "code",
      "metadata": {
        "colab_type": "code",
        "id": "OVFrWcHINYCz",
        "colab": {
          "base_uri": "https://localhost:8080/",
          "height": 35
        },
        "outputId": "dd94ecbc-50ac-4a56-de8d-4a3969d36fcc"
      },
      "source": [
        "# Use the Class Evaluator for a cleaner description\n",
        "from pyspark.ml.evaluation import MulticlassClassificationEvaluator\n",
        "\n",
        "acc_eval = MulticlassClassificationEvaluator()\n",
        "acc = acc_eval.evaluate(test_results)\n",
        "print(\"Accuracy of model at predicting reviews was: %f\" % acc)"
      ],
      "execution_count": null,
      "outputs": [
        {
          "output_type": "stream",
          "text": [
            "Accuracy of model at predicting reviews was: 0.997703\n"
          ],
          "name": "stdout"
        }
      ]
    },
    {
      "cell_type": "code",
      "metadata": {
        "id": "xuNMo8Rniy6A",
        "colab_type": "code",
        "colab": {}
      },
      "source": [
        ""
      ],
      "execution_count": null,
      "outputs": []
    }
  ]
}